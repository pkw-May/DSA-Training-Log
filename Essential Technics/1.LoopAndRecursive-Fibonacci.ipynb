{
 "cells": [
  {
   "cell_type": "markdown",
   "metadata": {},
   "source": [
    "#### 1. 피보나치 수열\n",
    "\n",
    "-   반복문과 재귀함수로 구현\n"
   ]
  },
  {
   "cell_type": "code",
   "execution_count": 35,
   "metadata": {},
   "outputs": [
    {
     "data": {
      "text/plain": [
       "2"
      ]
     },
     "execution_count": 35,
     "metadata": {},
     "output_type": "execute_result"
    }
   ],
   "source": [
    "def fibLoop(n):\n",
    "    if n <= 0:\n",
    "        return []\n",
    "    \n",
    "    arr = [1, 1]\n",
    "    if n==1 or n==2:\n",
    "        return arr[0:n]\n",
    "    \n",
    "    if n > 2:\n",
    "        for i in range(2, n):  # 이미 arr 변수에 0, 1번째 요소가 존재하므로, 2번째 요소부터 넣어야 함.\n",
    "            arr.append(arr[i-1] + arr[i-2])\n",
    "        return arr\n",
    "    \n",
    "n = int(input())\n",
    "fibLoop(n)"
   ]
  },
  {
   "cell_type": "code",
   "execution_count": 34,
   "metadata": {},
   "outputs": [
    {
     "data": {
      "text/plain": [
       "[1, 1, 2]"
      ]
     },
     "execution_count": 34,
     "metadata": {},
     "output_type": "execute_result"
    }
   ],
   "source": [
    "def fibRecur(n):\n",
    "    if n <= 0:\n",
    "        return\n",
    "\n",
    "    if n == 1 or n ==2:\n",
    "        return 1\n",
    "\n",
    "    else:\n",
    "        return fibRecur(n-1) + fibRecur(n-2)\n",
    "        \n",
    "[fibRecur(x) for x in range(1, int(input()) + 1)]\n",
    "# 배열의 인덱스가 1부터 시작하므로, n개의 수열을 만드려면 input number + 1이 range 종료값 "
   ]
  }
 ],
 "metadata": {
  "kernelspec": {
   "display_name": "Python 3",
   "language": "python",
   "name": "python3"
  },
  "language_info": {
   "codemirror_mode": {
    "name": "ipython",
    "version": 3
   },
   "file_extension": ".py",
   "mimetype": "text/x-python",
   "name": "python",
   "nbconvert_exporter": "python",
   "pygments_lexer": "ipython3",
   "version": "3.11.6"
  }
 },
 "nbformat": 4,
 "nbformat_minor": 2
}
