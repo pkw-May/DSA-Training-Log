{
 "cells": [
  {
   "cell_type": "markdown",
   "metadata": {},
   "source": [
    "### [ Binary Search 이진(이분) 탐색 ]\n",
    "\n",
    "-   정렬이 되어있는 데이터 셋에서 특정한 값을 효율적으로 찾는 알고리즘\n"
   ]
  },
  {
   "cell_type": "markdown",
   "metadata": {},
   "source": [
    "#### 1) 백준 2805 나무자르기 문제\n",
    "\n",
    "-   **핵심 요구**  \n",
    "    : 들쭉날쭉한 높이의 나무들을,  \n",
    "     &nbsp; 처음 설정한 높이로 한꺼번에 베어버리는 절단기를 사용할 때,  \n",
    "     &nbsp; 최소한의 벌목 목표 길이를 만족하는,  \n",
    "     &nbsp; 절단기 높이의 최댓값을 구하는 함수를 만들어라.\n",
    "    <br></br>\n",
    "\n",
    "-   **input values**\n",
    "\n",
    "    -   N(treeCnt): 나무 개수 (나무 별 높이 데이터를 담을 배열의 크기)\n",
    "    -   M(aimLen): 벌목할 나무의 총 길이\n",
    "    -   array(treeHeigts): 나무 별 높이 데이터 배열\n",
    "        <br></br>\n",
    "\n",
    "-   **문제 상황의 data의 형태**\n",
    "\n",
    "    -   절단기 높이의 case: [0, 1, ... , max(trees)]\n",
    "    -   벌목된 총길이 case: [sum(trees), ... , 0]  \n",
    "        <br></br>\n",
    "\n",
    "-   **문제 접근법**\n",
    "\n",
    "    **1) 분석**  \n",
    "     &nbsp; - 절단기 높이 case를 나열한 배열은 0부터 가장 키 큰 나무 높이까지 1씩 커지는 양의 정수가 담길 것이다. <u>index같이 생긴 데이터 셋!</u>  \n",
    "     &nbsp; - 벌목된 나무의 총길이 case를 담은 배열은 각각의 <u>절단기 높이 case에 하나씩 대응</u>되는 결과 데이터를 담을 수 있다.  \n",
    "     &nbsp; - 벌목된 총길이를 case 배열은 절단기 높이가 높아짐에 따라 값이 작아지므로, <u>정렬된 데이터 셋!</u>\n",
    "\n",
    "    **2) 접근**  \n",
    "     &nbsp; - 절단기 높이 case를 나열한 배열이, 예상되는 벌목 길이 case를 담은 배열의 index라고 상상하기  \n",
    "     &nbsp; - 예상되는 벌목 길이들의 배열은 정렬된 데이터이므로, 문제에서 주어진 `벌목 목표 길이`와 동일한 `예상 벌목 길이`에 대응되는 절단기 높이의 범위(index)를 절반씩 줄여가며 탐색할 수 있는, `Binary Search` 알고리즘을 활용하기  \n",
    "    <br></br>\n",
    "\n",
    "-   **풀이**\n",
    "    1. 초기 shortCutter은 가장 짧은 0, longCutter은 가장 높은 나무 높이인 max(treeHeights)로 할당\n",
    "    2. `벌목 예상 길이(expectedLen)`를 구할 절단기의 높이를, 가능한 최소길이와 최대길이의 중앙값인 `(shortCutter + longCutter) // 2`로 설정\n",
    "    3. `중앙값 절단기 높이(midCutter)`에 대응되는 `벌목 예상 길이(expectedLen)`와 input으로 들어온 `벌목 목표 길이(aimLen)`를 비교\n",
    "    4. `벌목 예상 길이(expectedLen)`가 `벌목 목표 길이(aimLen)`보다 길거나 같으면, 절단기의 최저 높이를 `midCutter`길이에서 하나 늘린 값으로 대체. 즉, `벌목 예상 길이(expectedLen)`가 나열된 배열에서, 탐색에 쓸 최소 index값을 중앙값의 다음 값으로 이동.\n",
    "    5. 4와 반대로, `벌목 예상 길이(expectedLen)`가 `벌목 목표 길이(aimLen)`보다 짧으면, 절단기의 최고 높이를 `midCutter`길이에서 하나 줄인 값으로 대체. 즉, `벌목 예상 길이(expectedLen)`가 나열된 배열에서, 탐색에 쓸 최대 index값을 중앙값의 이전 값으로 이동.\n",
    "    6. 4번 혹은 5번에서 업데이트된 최저, 최고 절단기 높이를 기반으로, 절단기 높이를 반복하여 탐색.\n",
    "    7. 최고 절단기 높이가 최저 절단기 높이보다 작아지는 경우까지 가면, index가 수렴된 시점이므로, 반복을 멈추고, 해당 시점의 최대 절단기 높이를 도출.\n",
    "       <br></br>\n"
   ]
  },
  {
   "cell_type": "code",
   "execution_count": 22,
   "metadata": {},
   "outputs": [
    {
     "name": "stdout",
     "output_type": "stream",
     "text": [
      "15\n"
     ]
    }
   ],
   "source": [
    "treeCnt, aimLen = map(int, input().split())\n",
    "treeHeights = list(map(int, input().split()))\n",
    "\n",
    "shortCutter = 0\n",
    "longCutter = max(treeHeights)\n",
    "\n",
    "while shortCutter <= longCutter:\n",
    "    midCutter = (shortCutter + longCutter) // 2\n",
    "\n",
    "    expectedLen = 0\n",
    "    for tree in treeHeights:\n",
    "        if tree >= midCutter:\n",
    "            expectedLen += tree - midCutter\n",
    "    \n",
    "    if expectedLen >= aimLen:\n",
    "        shortCutter = midCutter + 1\n",
    "\n",
    "    else:\n",
    "        longCutter = midCutter - 1\n",
    "    \n",
    "print(longCutter)\n"
   ]
  }
 ],
 "metadata": {
  "kernelspec": {
   "display_name": "Python 3",
   "language": "python",
   "name": "python3"
  },
  "language_info": {
   "codemirror_mode": {
    "name": "ipython",
    "version": 3
   },
   "file_extension": ".py",
   "mimetype": "text/x-python",
   "name": "python",
   "nbconvert_exporter": "python",
   "pygments_lexer": "ipython3",
   "version": "3.11.6"
  }
 },
 "nbformat": 4,
 "nbformat_minor": 2
}
