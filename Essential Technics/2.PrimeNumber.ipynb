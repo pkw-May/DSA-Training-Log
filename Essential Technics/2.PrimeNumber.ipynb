{
 "cells": [
  {
   "cell_type": "markdown",
   "metadata": {},
   "source": [
    "### [ 소수의 특성 활용 ]\n",
    "\n",
    "-   소수\n",
    "    : 1과 자기 자신만을 약수로 가지는 자연수\n",
    "\n",
    "-   활용\n",
    "    1. 분포가 균일하여, 어쩌구 : 데이터 위치 분포에 활용\n",
    "    2. 큰 소수 두 개의 곱의 결과를 소인수분해하는 것은 불가능에 가까움 : 암호화, 난수 생성에 활용\n"
   ]
  },
  {
   "cell_type": "markdown",
   "metadata": {},
   "source": [
    "##### 1. 소수 확인 - 소수로 나눠 떨어지는지 확인\n",
    "\n",
    "-   사전 처리 1) 2의 짝수 제외 : 무조건 2의 배수니까\n",
    "-   사전 처리 2) 홀수 중 소수만 남기기 : 홀수 중 소수가 아닌 것은 곧, 어떤 소수의 배수이니까\n",
    "-   사전 처리 3) n 제곱근 이하의 소수만 남기기: 제곱근을 기준으로, 대칭되는 위치에 있는 약수가 서로 대응 관계니까\n"
   ]
  },
  {
   "cell_type": "code",
   "execution_count": null,
   "metadata": {
    "vscode": {
     "languageId": "plaintext"
    }
   },
   "outputs": [],
   "source": [
    "\n"
   ]
  },
  {
   "cell_type": "code",
   "execution_count": null,
   "metadata": {
    "vscode": {
     "languageId": "plaintext"
    }
   },
   "outputs": [],
   "source": []
  }
 ],
 "metadata": {
  "language_info": {
   "name": "python"
  }
 },
 "nbformat": 4,
 "nbformat_minor": 2
}
