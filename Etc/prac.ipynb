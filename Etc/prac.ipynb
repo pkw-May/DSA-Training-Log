{
 "cells": [
  {
   "cell_type": "code",
   "execution_count": 8,
   "metadata": {},
   "outputs": [
    {
     "name": "stdout",
     "output_type": "stream",
     "text": [
      "4 4 ['----', '----', '----', '----']\n",
      "----\n",
      "----\n",
      "----\n",
      "----\n",
      "4\n"
     ]
    }
   ],
   "source": [
    "N, M = map(int, input().split())\n",
    "graph = [input().split()[0] for _ in range(N)]\n",
    "\n",
    "def horizon(line):\n",
    "    isH = False\n",
    "\n",
    "    for i in range(M):\n",
    "        if line[i] == '-':\n",
    "            if not isH:\n",
    "                global cnt\n",
    "                cnt += 1\n",
    "            isH = True\n",
    "        else:\n",
    "            isH = False\n",
    "\n",
    "def vertical(index):\n",
    "    isV = False\n",
    "\n",
    "    for nth in range(N):\n",
    "        if graph[nth][index] == '|':\n",
    "            if not isV:\n",
    "                global cnt\n",
    "                cnt += 1\n",
    "            isV = True\n",
    "        else:\n",
    "            isV = False\n",
    "\n",
    "cnt = 0\n",
    "\n",
    "for n in range(N):\n",
    "    horizon(graph[n])\n",
    "\n",
    "for m in range(M):\n",
    "    vertical(m)\n",
    "\n",
    "print(cnt)"
   ]
  },
  {
   "cell_type": "code",
   "execution_count": 14,
   "metadata": {},
   "outputs": [
    {
     "data": {
      "text/plain": [
       "['1', '2', '3', '4', '5']"
      ]
     },
     "execution_count": 14,
     "metadata": {},
     "output_type": "execute_result"
    }
   ],
   "source": [
    "list(input().strip())"
   ]
  }
 ],
 "metadata": {
  "kernelspec": {
   "display_name": "Python 3",
   "language": "python",
   "name": "python3"
  },
  "language_info": {
   "codemirror_mode": {
    "name": "ipython",
    "version": 3
   },
   "file_extension": ".py",
   "mimetype": "text/x-python",
   "name": "python",
   "nbconvert_exporter": "python",
   "pygments_lexer": "ipython3",
   "version": "3.11.6"
  }
 },
 "nbformat": 4,
 "nbformat_minor": 2
}
