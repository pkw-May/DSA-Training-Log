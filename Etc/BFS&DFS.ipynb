{
 "cells": [
  {
   "cell_type": "code",
   "execution_count": 8,
   "metadata": {},
   "outputs": [
    {
     "name": "stdout",
     "output_type": "stream",
     "text": [
      "Q::  Alice => deque([])\n",
      "visited::  {'Alice'}\n",
      "Q::  Bob => deque(['Claire', 'Frank'])\n",
      "visited::  {'Claire', 'Frank', 'Alice', 'Bob'}\n",
      "Q::  Claire => deque(['Frank', 'Dennis', 'Esther'])\n",
      "visited::  {'Claire', 'Esther', 'Bob', 'Alice', 'Dennis', 'Frank'}\n",
      "Q::  Frank => deque(['Dennis', 'Esther'])\n",
      "visited::  {'Claire', 'Esther', 'Bob', 'Alice', 'Dennis', 'Frank'}\n",
      "Q::  Dennis => deque(['Esther'])\n",
      "visited::  {'Claire', 'Esther', 'Bob', 'Alice', 'Dennis', 'Frank'}\n",
      "Q::  Esther => deque([])\n",
      "visited::  {'Claire', 'Esther', 'Bob', 'Alice', 'Dennis', 'Frank'}\n",
      "2\n"
     ]
    }
   ],
   "source": [
    "from collections import deque\n",
    "\n",
    "def social_network_bfs(graph, start, end):\n",
    "    queue = deque([start])\n",
    "    visited = set([start])\n",
    "    distance = 0\n",
    "\n",
    "    while queue:\n",
    "        for _ in range(len(queue)):\n",
    "            current = queue.popleft()\n",
    "            print('Q:: ',current,'=>', queue)\n",
    "            print('visited:: ', visited)\n",
    "\n",
    "            if current == end:\n",
    "                return distance\n",
    "\n",
    "            for friend in graph[current]:\n",
    "                if friend not in visited:\n",
    "                    queue.append(friend)\n",
    "                    visited.add(friend)\n",
    "        distance += 1\n",
    "\n",
    "    return -1  # 경로가 존재하지 않는 경우\n",
    "\n",
    "# 예시 소셜 네트워크 그래프\n",
    "graph = {\n",
    "    'Alice': ['Bob', 'Claire', 'Frank'],\n",
    "    'Bob': ['Alice', 'Dennis', 'Esther', 'Frank'],\n",
    "    'Claire': ['Alice', 'Frank'],\n",
    "    'Dennis': ['Bob', 'Esther'],\n",
    "    'Esther': ['Bob', 'Dennis'],\n",
    "    'Frank': ['Alice', 'Bob', 'Claire']\n",
    "}\n",
    "\n",
    "start_user = 'Alice'\n",
    "end_user = 'Esther'\n",
    "\n",
    "print(social_network_bfs(graph, start_user, end_user))"
   ]
  }
 ],
 "metadata": {
  "kernelspec": {
   "display_name": "Python 3",
   "language": "python",
   "name": "python3"
  },
  "language_info": {
   "codemirror_mode": {
    "name": "ipython",
    "version": 3
   },
   "file_extension": ".py",
   "mimetype": "text/x-python",
   "name": "python",
   "nbconvert_exporter": "python",
   "pygments_lexer": "ipython3",
   "version": "3.11.6"
  }
 },
 "nbformat": 4,
 "nbformat_minor": 2
}
