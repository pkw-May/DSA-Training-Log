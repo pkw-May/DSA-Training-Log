{
 "cells": [
  {
   "cell_type": "markdown",
   "metadata": {},
   "source": [
    "#### Longest Increasing Subsequence\n",
    "\n",
    "-   가장 길게 증가하는 부분 수열은  \n",
    "    현재 비교 대상인 원소가,  \n",
    "    본인보다 앞선 모든 원소에 대해  \n",
    "    몇 번이나 연속적으로 더 컸는지를 counting하는 것이 핵심\n",
    "\n",
    "-   수열의 원소를 모두 비교한 뒤,  \n",
    "    비교적 더 컸던 횟수가 가장 많았던 원소가  \n",
    "    가장 긴 증가하는 수열을 만드는 아이\n"
   ]
  },
  {
   "cell_type": "code",
   "execution_count": null,
   "metadata": {},
   "outputs": [],
   "source": [
    "# 수정 후\n",
    "\n",
    "N = int(input())\n",
    "arr = list(map(int, input().split()))\n",
    "\n",
    "dp = [1] * N\n",
    "\n",
    "# 본인은 고정해놓은 상태로, 앞선 모든 원소에 대하여 \n",
    "for i in range(1, N):\n",
    "    for j in range(0, i):\n",
    "        if arr[i] > arr[j]:\n",
    "            # 너까지 도달하는 데 수열이 쌓인게 더 크면, 너를 포함해서 횟수를 더하고\n",
    "            # 너를 포함해봤자 내가 더 긴 수열을 만든다면, 그냥 가만히 있고\n",
    "            dp[i] = max(dp[i], dp[j]+1)\n",
    "\n",
    "print(max(dp))"
   ]
  },
  {
   "cell_type": "code",
   "execution_count": null,
   "metadata": {},
   "outputs": [],
   "source": [
    "# 나의 틀린 코드\n",
    "\n",
    "N = int(input())\n",
    "arr = list(map(int, input().split()))\n",
    "\n",
    "dp = [1] * N\n",
    "\n",
    "# biggest는 그 순간에 가장 큰 지 확인할 뿐,\n",
    "# 이후에 나오는 이 큰 수보다 작은 수의 앞선 수열까지의 증가 개수가 더 길어지는 경우까지는 커버 못함\n",
    "biggest = arr[0]\n",
    "\n",
    "for i in range(1, N):\n",
    "    if (arr[i] > arr[i-1]) & (arr[i] > biggest):\n",
    "        biggest = arr[i]\n",
    "        dp[i] = dp[i-1] + 1\n",
    "    else:\n",
    "        dp[i] = dp[i-1]\n",
    "\n",
    "print(dp[-1])\n"
   ]
  },
  {
   "cell_type": "code",
   "execution_count": null,
   "metadata": {},
   "outputs": [],
   "source": [
    "\n"
   ]
  }
 ],
 "metadata": {
  "language_info": {
   "name": "python"
  }
 },
 "nbformat": 4,
 "nbformat_minor": 2
}
