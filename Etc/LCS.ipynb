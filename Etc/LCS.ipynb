{
 "cells": [
  {
   "cell_type": "code",
   "execution_count": 21,
   "metadata": {},
   "outputs": [
    {
     "name": "stdout",
     "output_type": "stream",
     "text": [
      "['0', 'A', 'B', 'V', 'S', 'C'] ['0', 'A', 'B', 'W', 'C']\n",
      "LCS의 길이, 배열:   (3, 'ABC')\n"
     ]
    }
   ],
   "source": [
    "def lcs(X, Y):\n",
    "    m = len(X)\n",
    "    n = len(Y)\n",
    "\n",
    "    # DP 테이블 초기화\n",
    "    L = [[0] * (n) for _ in range(m)]\n",
    "\n",
    "    # DP 테이블 채우기\n",
    "    for i in range(1, m):\n",
    "        for j in range(1, n):\n",
    "            if X[i] == Y[j]:\n",
    "                L[i][j] = L[i-1][j-1] + 1\n",
    "            else:\n",
    "                L[i][j] = max(L[i-1][j], L[i][j-1])\n",
    "\n",
    "    # 최장 공통 부분 수열의 길이\n",
    "    lcsLen = L[m-1][n-1]\n",
    "\t\n",
    "    # LCS 문자열 추적\n",
    "    lcs = []\n",
    "    i = m-1\n",
    "    j = n-1\n",
    "    while i > 0 and j > 0:\n",
    "        if X[i] == Y[j]:\n",
    "            lcs.append(X[i])\t\t\t\t\n",
    "            i -= 1\n",
    "            j -= 1\n",
    "\n",
    "        elif L[i - 1][j] > L[i][j - 1]:\n",
    "            i -= 1\n",
    "        else:\n",
    "            j -= 1\n",
    "\n",
    "    return (lcsLen, \"\".join(reversed(lcs)))\n",
    "\n",
    "# 주어진 문자열\n",
    "X = ['0'] + list(input().strip())\n",
    "Y = ['0'] + list(input().strip())\n",
    "\n",
    "print(X, Y)\n",
    "\n",
    "# LCS 길이 계산\n",
    "print(\"LCS의 길이, 배열:  \", lcs(X, Y))"
   ]
  }
 ],
 "metadata": {
  "kernelspec": {
   "display_name": "Python 3",
   "language": "python",
   "name": "python3"
  },
  "language_info": {
   "codemirror_mode": {
    "name": "ipython",
    "version": 3
   },
   "file_extension": ".py",
   "mimetype": "text/x-python",
   "name": "python",
   "nbconvert_exporter": "python",
   "pygments_lexer": "ipython3",
   "version": "3.11.6"
  }
 },
 "nbformat": 4,
 "nbformat_minor": 2
}
