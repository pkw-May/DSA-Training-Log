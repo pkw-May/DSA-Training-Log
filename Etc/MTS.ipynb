{
 "cells": [
  {
   "cell_type": "code",
   "execution_count": 5,
   "metadata": {},
   "outputs": [
    {
     "name": "stdout",
     "output_type": "stream",
     "text": [
      "3 3\n",
      "3\n"
     ]
    }
   ],
   "source": [
    "import heapq\n",
    "import sys\n",
    "input = sys.stdin.readline\n",
    "\n",
    "V, E = map(int, input().split())\n",
    "graph = [[] for _ in range(V+1)]\n",
    "visited = [0] * (V+1)\n",
    "\n",
    "for _ in range(E):\n",
    "    start, end, cost = map(int, input().split())\n",
    "    graph[start].append((cost, end))\n",
    "    graph[end].append((cost, start))\n",
    "\n",
    "\n",
    "def prim(graph, startNode):\n",
    "    visited[startNode] = 1\n",
    "    adjNodes = graph[startNode]\n",
    "\n",
    "    heapq.heapify(adjNodes)\n",
    "    totalCost = 0\n",
    "\n",
    "    while adjNodes:\n",
    "        cost, endNode = heapq.heappop(adjNodes)\n",
    "\n",
    "        if visited[endNode] == 0:\n",
    "            visited[endNode] = 1\n",
    "            totalCost += cost\n",
    "\n",
    "            for edge in graph[endNode]:\n",
    "                if visited[edge[1]] == 0:\n",
    "                    heapq.heappush(adjNodes, edge)\n",
    "\n",
    "    return totalCost\n",
    "\n",
    "print(prim(graph, 1))\n"
   ]
  }
 ],
 "metadata": {
  "kernelspec": {
   "display_name": "Python 3",
   "language": "python",
   "name": "python3"
  },
  "language_info": {
   "codemirror_mode": {
    "name": "ipython",
    "version": 3
   },
   "file_extension": ".py",
   "mimetype": "text/x-python",
   "name": "python",
   "nbconvert_exporter": "python",
   "pygments_lexer": "ipython3",
   "version": "3.11.6"
  }
 },
 "nbformat": 4,
 "nbformat_minor": 2
}
