{
 "cells": [
  {
   "cell_type": "code",
   "execution_count": 1,
   "metadata": {},
   "outputs": [
    {
     "name": "stdout",
     "output_type": "stream",
     "text": [
      "[0, 5, 8, 9]\n",
      "[inf, 0, 3, 4]\n",
      "[inf, inf, 0, 1]\n",
      "[inf, inf, inf, 0]\n"
     ]
    }
   ],
   "source": [
    "# 무한대를 나타내는 값 (연결되지 않음)\n",
    "INF = float('inf')\n",
    "\n",
    "# 인접 행렬을 사용한 그래프의 정의\n",
    "# graph[i][j]는 i에서 j로 가는 비용을 나타냄\n",
    "graph = [\n",
    "    [0, 5, INF, 10],\n",
    "    [INF, 0, 3, INF],\n",
    "    [INF, INF, 0, 1],\n",
    "    [INF, INF, INF, 0]\n",
    "]\n",
    "\n",
    "# 플로이드 워셜 알고리즘 구현\n",
    "def floyd_warshall(graph):\n",
    "    # 그래프의 정점 수\n",
    "    V = len(graph)\n",
    "    \n",
    "    # 거리 정보를 담을 dist 초기화\n",
    "    dist = list(map(lambda i: list(map(lambda j: j, i)), graph))\n",
    "    \n",
    "    # k를 거치는 모든 쌍의 최단 경로 계산\n",
    "    for k in range(V):\n",
    "        for i in range(V):\n",
    "            for j in range(V):\n",
    "                # i에서 j로 가는 비용과 i에서 k를 거쳐 j로 가는 비용 비교\n",
    "                dist[i][j] = min(dist[i][j], dist[i][k] + dist[k][j])\n",
    "    \n",
    "    # 계산된 최단 거리 행렬 반환\n",
    "    return dist\n",
    "\n",
    "# 최단 거리 행렬 계산\n",
    "shortest_paths = floyd_warshall(graph)\n",
    "\n",
    "# 최단 거리 행렬 출력\n",
    "for row in shortest_paths:\n",
    "    print(row)\n"
   ]
  },
  {
   "cell_type": "code",
   "execution_count": null,
   "metadata": {},
   "outputs": [],
   "source": []
  }
 ],
 "metadata": {
  "kernelspec": {
   "display_name": "Python 3",
   "language": "python",
   "name": "python3"
  },
  "language_info": {
   "codemirror_mode": {
    "name": "ipython",
    "version": 3
   },
   "file_extension": ".py",
   "mimetype": "text/x-python",
   "name": "python",
   "nbconvert_exporter": "python",
   "pygments_lexer": "ipython3",
   "version": "3.11.6"
  }
 },
 "nbformat": 4,
 "nbformat_minor": 2
}
