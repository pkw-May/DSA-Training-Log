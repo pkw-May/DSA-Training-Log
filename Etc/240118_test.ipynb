{
 "cells": [
  {
   "cell_type": "code",
   "execution_count": 26,
   "metadata": {},
   "outputs": [
    {
     "name": "stdout",
     "output_type": "stream",
     "text": [
      "o:  26 x:  68\n",
      "o:  26 x:  84\n",
      "o:  26 x:  42\n",
      "o:  26 x:  26\n",
      "4\n"
     ]
    }
   ],
   "source": [
    "# 1110.py\n",
    "\n",
    "x = input()\n",
    "origin = x\n",
    "cnt = 0\n",
    "\n",
    "def addCycle(x):\n",
    "    y = str(x[-1])\n",
    "\n",
    "    if len(str(x)) < 2:\n",
    "        x = '0' + str(x)\n",
    "    \n",
    "    x = str(int(x[0]) + int(x[1]))\n",
    "\n",
    "    x = y + str(x[-1])\n",
    "\n",
    "    if int(origin) != int(x):\n",
    "        global cnt\n",
    "        cnt += 1\n",
    "        addCycle(x)\n",
    "    \n",
    "    else:\n",
    "        cnt += 1\n",
    "        print(cnt)\n",
    "    \n",
    "addCycle(x)"
   ]
  },
  {
   "cell_type": "code",
   "execution_count": 30,
   "metadata": {},
   "outputs": [
    {
     "name": "stdout",
     "output_type": "stream",
     "text": [
      "1\n"
     ]
    }
   ],
   "source": [
    "# 1182.py\n",
    "\n",
    "from itertools import combinations\n",
    "\n",
    "n, s = map(int, input().split())\n",
    "arr = list(map(int, input().split()))\n",
    "cnt = 0\n",
    "\n",
    "for i in range(1, n+1):\n",
    "    com = combinations(arr, i)\n",
    "    \n",
    "    for x in com:\n",
    "        if sum(x) == s:\n",
    "            cnt += 1\n",
    "\n",
    "print(cnt)"
   ]
  }
 ],
 "metadata": {
  "kernelspec": {
   "display_name": "Python 3",
   "language": "python",
   "name": "python3"
  },
  "language_info": {
   "codemirror_mode": {
    "name": "ipython",
    "version": 3
   },
   "file_extension": ".py",
   "mimetype": "text/x-python",
   "name": "python",
   "nbconvert_exporter": "python",
   "pygments_lexer": "ipython3",
   "version": "3.11.6"
  }
 },
 "nbformat": 4,
 "nbformat_minor": 2
}
