{
 "cells": [
  {
   "cell_type": "code",
   "execution_count": null,
   "metadata": {},
   "outputs": [],
   "source": [
    "# DP\n",
    "\n",
    "def knapsack(max_weight, weights, values, n):\n",
    "    # DP 테이블 초기화\n",
    "    K = [[0 for x in range(max_weight + 1)] for x in range(n + 1)]\n",
    "\n",
    "    # DP 테이블 채우기\n",
    "    for i in range(n + 1):\n",
    "        for w in range(max_weight + 1):\n",
    "            if i == 0 or w == 0:\n",
    "                K[i][w] = 0\n",
    "            elif weights[i-1] <= w:\n",
    "                K[i][w] = max(values[i-1] + K[i-1][w-weights[i-1]], K[i-1][w])\n",
    "            else:\n",
    "                K[i][w] = K[i-1][w]\n",
    "\n",
    "    return K[n][max_weight]\n",
    "\n",
    "# 물건의 무게와 가치\n",
    "weights = [1, 2, 3]\n",
    "values = [60, 100, 120]\n",
    "max_weight = 5\n",
    "n = len(values)\n",
    "\n",
    "# 최대 가치 계산\n",
    "max_value = knapsack(max_weight, weights, values, n)\n",
    "print(max_value)"
   ]
  },
  {
   "cell_type": "code",
   "execution_count": null,
   "metadata": {},
   "outputs": [],
   "source": [
    "# Greedy\n",
    "\n",
    "def fractional_knapsack(value, weight, capacity):\n",
    "    # value와 weight를 가지고 각 아이템의 가치 밀도를 계산\n",
    "    index = list(range(len(value)))\n",
    "    ratio = [v/w for v, w in zip(value, weight)]\n",
    "\n",
    "    # 가치 밀도를 기준으로 내림차순 정렬\n",
    "    index.sort(key=lambda i: ratio[i], reverse=True)\n",
    "\n",
    "    max_value = 0\n",
    "    fractions = [0] * len(value)\n",
    "\n",
    "    for i in index:\n",
    "        if weight[i] <= capacity:\n",
    "            fractions[i] = 1\n",
    "            max_value += value[i]\n",
    "            capacity -= weight[i]\n",
    "        else:\n",
    "            fractions[i] = capacity / weight[i]\n",
    "            max_value += value[i] * fractions[i]\n",
    "            break\n",
    "\n",
    "    return max_value, fractions\n",
    "\n",
    "# 각 물건의 가치와 무게\n",
    "value = [60, 100, 120]\n",
    "weight = [10, 20, 30]\n",
    "capacity = 50\n",
    "\n",
    "# Fractional Knapsack Problem 해결\n",
    "max_value, fractions = fractional_knapsack(value, weight, capacity)\n",
    "print(\"최대 가치:\", max_value)\n",
    "print(\"물건의 분할 비율:\", fractions)\n"
   ]
  }
 ],
 "metadata": {
  "language_info": {
   "name": "python"
  }
 },
 "nbformat": 4,
 "nbformat_minor": 2
}
